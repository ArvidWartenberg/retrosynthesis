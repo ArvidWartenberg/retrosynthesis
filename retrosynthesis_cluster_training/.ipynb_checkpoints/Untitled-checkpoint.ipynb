{
 "cells": [
  {
   "cell_type": "code",
   "execution_count": 8,
   "id": "ae8e9414",
   "metadata": {},
   "outputs": [],
   "source": [
    "from modules import *\n",
    "from constants import *\n",
    "\n",
    "\n",
    "# ReactionDataset class\n",
    "class ReactionDataset(Dataset):\n",
    "\n",
    "    def __init__(self, \n",
    "                 data, \n",
    "                 split,\n",
    "                 maxlen=MAX_SEQ_LEN,\n",
    "                 rep=\" ^$#%()+-./0123456789=@ABCDEFGHIKLMNOPRSTVXYZ[\\\\]abcdefgilmnoprstuy\"):\n",
    "        \n",
    "        self.split = split\n",
    "        self.data = data[self.split]\n",
    "        self.maxlen = maxlen\n",
    "        self.rep = rep\n",
    "        self.char_to_ix = { ch:i for i,ch in enumerate(rep) }\n",
    "        self.ix_to_char = { i:ch for i,ch in enumerate(rep) }\n",
    "        # Add augmentation methods here later\n",
    "        \n",
    "    def __len__(self):\n",
    "        return len(self.data)\n",
    "    \n",
    "    def __getitem__(self, index):\n",
    "        rs_smiles = self.data[index][\"rs\"]\n",
    "        ps_smiles = self.data[index][\"ps\"]\n",
    "        if rs_smiles[0] == \".\":\n",
    "            rs_smiles=rs_smiles[1:]\n",
    "        if ps_smiles[0] == \".\":\n",
    "            ps_smiles=ps_smiles[1:]\n",
    "        \n",
    "        \n",
    "        rs_smiles = self.ix_to_char[BOS_IDX] + rs_smiles + self.ix_to_char[EOS_IDX] + (self.maxlen-len(rs_smiles)-2)*\" \"\n",
    "        ps_smiles = ps_smiles + (self.maxlen-len(ps_smiles))*\" \"\n",
    "        \n",
    "        # Augment smiles here for train\n",
    "        \n",
    "        rs = np.array([self.char_to_ix[char] for char in rs_smiles])\n",
    "        ps = np.array([self.char_to_ix[char] for char in ps_smiles])\n",
    "        \n",
    "        return {\n",
    "            \"rs\": rs,\n",
    "            \"ps\": ps\n",
    "        }\n"
   ]
  },
  {
   "cell_type": "code",
   "execution_count": 15,
   "id": "bd987563",
   "metadata": {},
   "outputs": [
    {
     "name": "stdout",
     "output_type": "stream",
     "text": [
      "/home/arvid/models/chemformers/2021-10-01/\n"
     ]
    }
   ],
   "source": [
    "import os\n",
    "from datetime import datetime\n",
    "folder_dir = os.path.expanduser(\"~/models/chemformers/\") \n",
    "day_dir = datetime.now().strftime(\"%Y-%m-%d\")\n",
    "if day_dir not in os.listdir(folder_dir):\n",
    "    os.mkdir(folder_str + day_dir)\n",
    "\n",
    "total_dir_path = folder_dir+day_dir+\"/\"\n",
    "print(total_dir_path)"
   ]
  },
  {
   "cell_type": "code",
   "execution_count": 9,
   "id": "b225e67e",
   "metadata": {},
   "outputs": [],
   "source": [
    "file = open(\"/home/arvid/data/USTPO_paper_5x/USTPO_5x_parsed.pickle\",'rb')\n",
    "data = pickle.load(file)\n",
    "datasets = {}\n",
    "dataloaders = {}\n",
    "for split in ['train', 'eval']:\n",
    "    datasets[split] = ReactionDataset(data=data,\n",
    "                                   split=split)\n",
    "\n",
    "    dataloaders[split] = DataLoader(datasets[split],\n",
    "                                    batch_size=32,\n",
    "                                    shuffle=(split != 'test'),\n",
    "                                    num_workers=8,\n",
    "                                    pin_memory=False,\n",
    "                                    drop_last=True)"
   ]
  },
  {
   "cell_type": "code",
   "execution_count": 11,
   "id": "45ca6d10",
   "metadata": {},
   "outputs": [
    {
     "data": {
      "text/plain": [
       "torch.Size([32, 160])"
      ]
     },
     "execution_count": 11,
     "metadata": {},
     "output_type": "execute_result"
    }
   ],
   "source": [
    "next(iter(dataloaders[\"train\"]))[\"rs\"].shape"
   ]
  }
 ],
 "metadata": {
  "kernelspec": {
   "display_name": "Python 3",
   "language": "python",
   "name": "python3"
  },
  "language_info": {
   "codemirror_mode": {
    "name": "ipython",
    "version": 3
   },
   "file_extension": ".py",
   "mimetype": "text/x-python",
   "name": "python",
   "nbconvert_exporter": "python",
   "pygments_lexer": "ipython3",
   "version": "3.8.11"
  }
 },
 "nbformat": 4,
 "nbformat_minor": 5
}
