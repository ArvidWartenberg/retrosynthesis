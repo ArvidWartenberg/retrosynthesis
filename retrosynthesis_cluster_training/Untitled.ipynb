{
 "cells": [
  {
   "cell_type": "code",
   "execution_count": 16,
   "id": "e95a7ab0",
   "metadata": {},
   "outputs": [
    {
     "data": {
      "text/plain": [
       "[<matplotlib.lines.Line2D at 0x7fd9ab4fb3d0>]"
      ]
     },
     "execution_count": 16,
     "metadata": {},
     "output_type": "execute_result"
    },
    {
     "data": {
      "image/png": "[encoded data removed]",
      "text/plain": [
       "<Figure size 432x288 with 1 Axes>"
      ]
     },
     "metadata": {
      "needs_background": "light"
     },
     "output_type": "display_data"
    }
   ],
   "source": [
    "import matplotlib.pyplot as plt\n",
    "import numpy as np\n",
    "plt.plot(np.minimum(512**(-.5)*np.arange(1,200)**(-.5),np.arange(1,200)*30**(-1.5)))"
   ]
  },
  {
   "cell_type": "code",
   "execution_count": 8,
   "id": "ae8e9414",
   "metadata": {},
   "outputs": [],
   "source": [
    "from modules import *\n",
    "from constants import *\n",
    "\n",
    "\n",
    "# ReactionDataset class\n",
    "class ReactionDataset(Dataset):\n",
    "\n",
    "    def __init__(self, \n",
    "                 data, \n",
    "                 split,\n",
    "                 maxlen=MAX_SEQ_LEN,\n",
    "                 rep=\" ^$#%()+-./0123456789=@ABCDEFGHIKLMNOPRSTVXYZ[\\\\]abcdefgilmnoprstuy\"):\n",
    "        \n",
    "        self.split = split\n",
    "        self.data = data[self.split]\n",
    "        self.maxlen = maxlen\n",
    "        self.rep = rep\n",
    "        self.char_to_ix = { ch:i for i,ch in enumerate(rep) }\n",
    "        self.ix_to_char = { i:ch for i,ch in enumerate(rep) }\n",
    "        # Add augmentation methods here later\n",
    "        \n",
    "    def __len__(self):\n",
    "        return len(self.data)\n",
    "    \n",
    "    def __getitem__(self, index):\n",
    "        rs_smiles = self.data[index][\"rs\"]\n",
    "        ps_smiles = self.data[index][\"ps\"]\n",
    "        if rs_smiles[0] == \".\":\n",
    "            rs_smiles=rs_smiles[1:]\n",
    "        if ps_smiles[0] == \".\":\n",
    "            ps_smiles=ps_smiles[1:]\n",
    "        \n",
    "        \n",
    "        rs_smiles = self.ix_to_char[BOS_IDX] + rs_smiles + self.ix_to_char[EOS_IDX] + (self.maxlen-len(rs_smiles)-2)*\" \"\n",
    "        ps_smiles = ps_smiles + (self.maxlen-len(ps_smiles))*\" \"\n",
    "        \n",
    "        # Augment smiles here for train\n",
    "        \n",
    "        rs = np.array([self.char_to_ix[char] for char in rs_smiles])\n",
    "        ps = np.array([self.char_to_ix[char] for char in ps_smiles])\n",
    "        \n",
    "        return {\n",
    "            \"rs\": rs,\n",
    "            \"ps\": ps\n",
    "        }\n"
   ]
  },
  {
   "cell_type": "code",
   "execution_count": 15,
   "id": "bd987563",
   "metadata": {},
   "outputs": [
    {
     "name": "stdout",
     "output_type": "stream",
     "text": [
      "/home/arvid/models/chemformers/2021-10-01/\n"
     ]
    }
   ],
   "source": [
    "import os\n",
    "from datetime import datetime\n",
    "folder_dir = os.path.expanduser(\"~/models/chemformers/\") \n",
    "day_dir = datetime.now().strftime(\"%Y-%m-%d\")\n",
    "if day_dir not in os.listdir(folder_dir):\n",
    "    os.mkdir(folder_str + day_dir)\n",
    "\n",
    "total_dir_path = folder_dir+day_dir+\"/\"\n",
    "print(total_dir_path)"
   ]
  },
  {
   "cell_type": "code",
   "execution_count": 9,
   "id": "b225e67e",
   "metadata": {},
   "outputs": [],
   "source": [
    "file = open(\"/home/arvid/data/USTPO_paper_5x/USTPO_5x_parsed.pickle\",'rb')\n",
    "data = pickle.load(file)\n",
    "datasets = {}\n",
    "dataloaders = {}\n",
    "for split in ['train', 'eval']:\n",
    "    datasets[split] = ReactionDataset(data=data,\n",
    "                                   split=split)\n",
    "\n",
    "    dataloaders[split] = DataLoader(datasets[split],\n",
    "                                    batch_size=32,\n",
    "                                    shuffle=(split != 'test'),\n",
    "                                    num_workers=8,\n",
    "                                    pin_memory=False,\n",
    "                                    drop_last=True)"
   ]
  },
  {
   "cell_type": "code",
   "execution_count": 11,
   "id": "45ca6d10",
   "metadata": {},
   "outputs": [
    {
     "data": {
      "text/plain": [
       "torch.Size([32, 160])"
      ]
     },
     "execution_count": 11,
     "metadata": {},
     "output_type": "execute_result"
    }
   ],
   "source": [
    "next(iter(dataloaders[\"train\"]))[\"rs\"].shape"
   ]
  },
  {
   "cell_type": "code",
   "execution_count": null,
   "id": "8c006068",
   "metadata": {},
   "outputs": [],
   "source": [
    "1. initialize dataset (also which dataset)\n",
    "2. initialize retro pred model\n",
    "3. initialize tree search.\n",
    ".\n",
    ".\n",
    ".\n",
    ".\n",
    "x. finetune retro pred model.\n",
    ".\n",
    ".\n",
    ".\n",
    ".\n",
    "y. consider molecules in test set, iteratively perform retrosynth, score different routes, ....\n",
    "return resutlts"
   ]
  },
  {
   "cell_type": "code",
   "execution_count": null,
   "id": "eddf2791",
   "metadata": {},
   "outputs": [],
   "source": [
    "class Experiment():\n",
    "\n",
    "    def __init__(self, experiment_settings):\n",
    "        #initialize experiment specifications\n",
    "    \n",
    "    def perform_experiment()\n",
    "        for instruction in self.experiment_settings call follow_instriction()\n",
    "    \n",
    "    def follow_instruction()\n",
    "        outputs = model(inputs)\n",
    "    \n",
    "        \n",
    "    "
   ]
  },
  {
   "cell_type": "code",
   "execution_count": null,
   "id": "8fd85663",
   "metadata": {},
   "outputs": [],
   "source": [
    "class model():\n",
    "    \n",
    "    def predict()\n",
    "    \n",
    "    "
   ]
  },
  {
   "cell_type": "code",
   "execution_count": null,
   "id": "8f930c89",
   "metadata": {},
   "outputs": [],
   "source": [
    "class transformer(model)\n",
    "    use pytorch\n",
    "    def predict()\n",
    "    \n",
    "    def train()"
   ]
  },
  {
   "cell_type": "code",
   "execution_count": null,
   "id": "c6d66c5f",
   "metadata": {},
   "outputs": [],
   "source": []
  },
  {
   "cell_type": "code",
   "execution_count": null,
   "id": "a8917560",
   "metadata": {},
   "outputs": [],
   "source": []
  },
  {
   "cell_type": "code",
   "execution_count": null,
   "id": "2d7405a8",
   "metadata": {},
   "outputs": [],
   "source": []
  },
  {
   "cell_type": "code",
   "execution_count": null,
   "id": "41b56153",
   "metadata": {},
   "outputs": [],
   "source": []
  },
  {
   "cell_type": "code",
   "execution_count": null,
   "id": "c4534cce",
   "metadata": {},
   "outputs": [],
   "source": []
  },
  {
   "cell_type": "code",
   "execution_count": null,
   "id": "38c36e4c",
   "metadata": {},
   "outputs": [],
   "source": []
  },
  {
   "cell_type": "code",
   "execution_count": null,
   "id": "6e52e4d0",
   "metadata": {},
   "outputs": [],
   "source": []
  }
 ],
 "metadata": {
  "kernelspec": {
   "display_name": "Python 3",
   "language": "python",
   "name": "python3"
  },
  "language_info": {
   "codemirror_mode": {
    "name": "ipython",
    "version": 3
   },
   "file_extension": ".py",
   "mimetype": "text/x-python",
   "name": "python",
   "nbconvert_exporter": "python",
   "pygments_lexer": "ipython3",
   "version": "3.8.11"
  }
 },
 "nbformat": 4,
 "nbformat_minor": 5
}
